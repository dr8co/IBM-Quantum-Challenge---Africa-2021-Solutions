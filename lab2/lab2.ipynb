{
 "cells": [
  {
   "cell_type": "markdown",
   "metadata": {},
   "source": [
    "# Quantum speedups in finance\n",
    "\n",
    "### Notebook objectives:\n",
    "\n",
    "In this challenge we will gain the following skills:\n",
    "1. Understand the basics of how financial instruments are typically priced using Monte Carlo methods\n",
    "2. Implement a quantum algorithm to price a financial instrument (in this case, we consider derivative contracts called options)\n",
    "3. Understand the pros/cons of using the quantum approach"
   ]
  },
  {
   "cell_type": "markdown",
   "metadata": {},
   "source": [
    "## Introduction\n",
    "\n",
    "The world of finance is a complicated one to model and predict. The financial markets, in particular, are influenced by so many external factors and contain multiple different investors with different objectives. This means that traditional modelling techniques, like multiple linear regression, often struggle when trying to explain investors' behaviours or perform certain tasks in finance, such as predicting the price of a stock. Due to these complexities, we need more sophisticated models and numerous techniques have been proposed to produce such robust models for financial instruments like stocks. \n",
    "\n",
    "In Africa, the dynamics of the financial markets are arguably even more complicated. In this notebook, we discuss what types of financial instruments we can encounter in the South African market, particularly those that are liquid (meaning they are frequently traded and accurately valued). Illiqid instruments are also prevalent in Africa and are more difficult to evaluate and price, since they are not often traded. \n",
    "\n",
    "Here, we introduce a common pricing technique for a particular instrument called an option. This technique rests on Monte Carlo sampling which we show can achieve a quadratic speed up in pricing the option by replacing the classical Monte Carlo sampling approach with a quantum algorithm that leverages quantum effects to compute things faster. "
   ]
  },
  {
   "cell_type": "markdown",
   "metadata": {},
   "source": [
    "## 1. What is a financial instrument?\n",
    "\n",
    "A financial instrument is any asset that can be traded between various parties. For example, shares of a company are equity instruments, and debt, cash and even contracts can be considered as financial instruments. \n",
    "\n",
    "In general, we can divide financial instruments into several categories, such as cash instruments, asset or debt-based instruments and derivative instruments. In this challenge, we will focus on the last category, namely, derivatives. These instruments get their name from the fact that their price is *derived* based on the price of a separate underlying quantity. In particular, we will consider derivatives called European options. "
   ]
  },
  {
   "cell_type": "markdown",
   "metadata": {},
   "source": [
    "<img src=\"instruments.png\" width=1000 height=1000 />"
   ]
  },
  {
   "cell_type": "markdown",
   "metadata": {},
   "source": [
    "### Option contracts\n",
    "\n",
    "Options are financial derivatives that are defined explicitly by contracts. These contracts give the buyer of the option the right, but not the obligation, to buy or sell a specific underlying asset at an agreed-upon price sometime in the future. \n",
    "\n",
    "- Options that give the buyer the right to *buy* the underlying asset are called **call options** \n",
    "\n",
    "- Options that give the buyer the right to *sell* the underlying asset are called **put options**. \n",
    "\n",
    "In both cases, the price to buy or sell the asset at, is agreed upon in the contract and called the **strike price**.\n",
    "\n",
    "For example, let's assume that the share price of a company called ABC is currently trading at $S_0 =$ 50 ZAR. You believe that in 1 months time, the share price will double to 100 ZAR. You can either buy the share now for 50 ZAR, or you could buy a 1-month call option for a much cheaper price of 5 ZAR. If the price of the ABC share does indeed double in 1 months time, then you can exercise your option right to buy the ABC share at the agreed up strike price (which will be lower than the actual share price). This may sound a little tricky, so let's make it concrete by going through an example with various scenarios we can encounter.\n",
    "\n",
    "Recall that the current price of ABC is $S_0 =$ 50 ZAR. A 1-month call option with a strike price of $K =$ 80 ZAR is available to purchase for $P_{\\mathrm{call}} =$ 5 ZAR. Let's consider the scenarios of buying an ABC share today or the call option.\n",
    "\n",
    "#### Today:\n",
    "\n",
    "Scenario 1: Buying a share of ABC today\n",
    "Investment = $S_0 =$ 50 ZAR\n",
    "\n",
    "Scenario 2: Buying a 1-month call option on ABC\n",
    "Investment = $P_{\\mathrm{call}} =$ 5 ZAR\n",
    "\n",
    "#### In 1-months time:\n",
    "Since option contracts are valid for a pre-determined period of time, their value at the expiration date is called the *payoff* that you will recieve. Technically, the price of an ABC share could be trading at any value greater than or equal to 0 ZAR. Let's imagine that the price after 1-month $S_t$ can be 40 ZAR, 60 ZAR or 100 ZAR and look at the payoffs for each scenario. \n",
    "\n",
    "- $S_t =$ 40 ZAR \\\n",
    "    Scenario 1: Since you own the share of ABC and purchased it at 50 ZAR, you will lose 10 ZAR. I.e. the payoff will be a loss of -10 ZAR. \\\n",
    "    Scenario 2: The strike price is higher than the actual share price. Thus, you would not execute the option to buy ABC at $K =$ 80 ZAR when you can purchase the share on the market at 40 ZAR. You will lose out on the price you paid for the call option and so the payoff will be a loss of -5 ZAR.\n",
    "\n",
    "\n",
    "- $S_t =$ 60 ZAR \\\n",
    "Scenario 1: The payoff will be the profit you made from buying the share at 50 ZAR and it's current price. I.e., payoff = 60 - 50 = 10 ZAR. \\\n",
    "Scenario 2: The strike price is still higher than the share price. Thus, you would not execute the option and lose 5 ZAR.\n",
    "\n",
    "\n",
    "- $S_t =$ 100 ZAR \\\n",
    "Scenario 1: payoff = 100 - 50 = 50 ZAR \\\n",
    "Scenario 2: Here, the strike price is lower than the market price so it makes sense to execute the option. By doing so, you can buy the share at the strike price of 80 ZAR and the profit is therefore = 100 - 80 = 20 ZAR. However, remember that you also paid a premium for the option so the total payoff is 100 - 80 - 5 = 15 ZAR.\n",
    "\n",
    "At this stage, you might be wondering why buy the option at all? And it kind of seems like betting? What's important to keep in mind is the initial investment you have to put up in order to buy the actual ABC share vs buying the call option. Buying the share requires a much higher investment and you run the risk of losing a lot more money if the share price drops below the price you initially paid for it. Whereas with the option, if the share price drops below the strike price, you can just let the option expire and lose a maximum of 5 ZAR (the price you paid for the option). There are also other reasons to purchase options, such as hedging against risk or offsetting other trades. In general, you can read more about these strategies here: https://www.investopedia.com/trading/options-strategies/"
   ]
  },
  {
   "cell_type": "markdown",
   "metadata": {},
   "source": [
    "# Pricing options\n",
    "\n",
    "Now, how on earth do we begin to price these option contracts? Previously, we said the price of a 1-month call option linked to the ABC share price was 5 ZAR. But is that price fair? And how would be go about determining the fair price of these options in general? \n",
    "\n",
    "If we think about what should affect the fair price of an option, it boils down to understanding the what the price of the underlying asset it is linked to will be in the future. Due to the random (also called stochastic) nature of most of the parameters that go into pricing the underlying assets that options are defined on, calculating the fair price can be a difficult task, and whilst analytical models exist for the basic types of options, the simplifying assumptions required for these models often limit their applicability. Thus, numerical methods that estimate the fair price have to be employed for option pricing, with Monte Carlo being one of the most popular. "
   ]
  },
  {
   "cell_type": "markdown",
   "metadata": {},
   "source": [
    "## 2. How does Monte Carlo work?\n",
    "\n",
    "Monte Carlo methods are a class of computational algorithms that are based on random sampling and repeated computation. At a high level, imagine you have a function (or equation) that is described by multiple variables and you're interested in solving that function, but it is analytically difficult to do so because the function depends on lots of complicated variables. \n",
    "\n",
    "A Monte Carlo approach simply samples random values for the parameters of your function from an underlying distribution and computes the function multiple times, each time using a different set of randomly sampled values. In doing so, we can obtain an expected value for the function we are trying to evaluate by taking an average over all the computed values of the function. This allows us to estimate function values without having to analytically solve them directly."
   ]
  },
  {
   "cell_type": "markdown",
   "metadata": {},
   "source": [
    "<img src=\"MCpic.png\" width=650 height=650 />\n",
    "\n",
    "You can read more about how Monte Carlo works in this blog post that discusses how to use the technique to estimate the value of pi: https://medium.com/swlh/estimate-pi-with-monte-carlo-a74995862501"
   ]
  },
  {
   "cell_type": "markdown",
   "metadata": {},
   "source": [
    "### Monte Carlo in finance\n",
    "\n",
    "Monte Carlo simulation is often used in finance to value and analyse instruments, portfolios and investments by simulating the sources of uncertainty that affect their value [cite: https://www.cmi.ac.in/~shariq/Shariq%20files/option_pricing.pdf]. \n",
    "\n",
    "In the case of options, Monte Carlo methods are used to develop a price distribution for the underlying asset. If we have a price distribution of the underlying asset, then we can begin to get a sense of what the fair price for the option should be. \n",
    "\n",
    "To illustrate this, we have to first make assumptions about the factors that could influence the price of the underlying asset and hence, influence the value of the option."
   ]
  },
  {
   "cell_type": "markdown",
   "metadata": {},
   "source": [
    "### Monte Carlo methods for option pricing\n",
    "\n",
    "The goal of option pricing is to estimate the option's payoff at the expiration date. In other words, how much profit can you expect to make from the option? If the underlying asset's price is expected to go up a lot, then you can expect to make more money if you can buy the underlying asset at a cheap price when it is worth a lot. In that case, the option price should be high since the option to buy the underlying asset at a cheaper price is quite valuable. \n",
    "\n",
    "<br>\n",
    "The steps to price an option are as follows:\n",
    "\n",
    "1. Model the price of the underlying asset which the option is based on, and any other sources of uncertainty, as random variables $\\textbf{X}=\\{X_1, X_2, . . . , X_N\\} $ which follow a stochastic process.\n",
    "$$ \\thinspace $$\n",
    "2. Generate a large number, $M$, of random values which can serve as price paths $\\{\\textbf{X}_1, \\textbf{X}_2, . . . ,  \\textbf{X}_N\\} $ for the underlying asset. These random values should be drawn from the probability distribution implied by the stochastic process. Let's call this distribution $\\mathbb{P}$.\n",
    "$$ \\thinspace $$\n",
    "3. Once we have lots of simulated price paths for the underlying asset, we can calculate the option’s payoff for each of the generated price paths, which we can label as $f(\\textbf{X}_i)$. Then we can compute an estimator for the expectation value of the payoff as an average across all paths, i.e. $\\mathbb{E}_\\mathbb{P}[f(\\textbf{X})]$ can be approximated by\n",
    "$$ \\mathbb{\\hat{E}}_\\mathbb{P}[f(\\textbf{X})]= \\frac{1}{M}\\sum_{i=1}^M f(\\textbf{X}_i) $$\n",
    "$$ \\thinspace $$\n",
    "4. Lastly, discount the calculated expectation value to get the option's fair value today.\n",
    "\n",
    "In step 4, the discounting process requires knowledge of interest rates at future dates which is itself an important question from a financial modelling perspective. However, for the types of options we consider, this process is not computationally challenging and can be performed classically after the payoff calculation. We therefore do not discount the expected payoff for simplicity and can ignore step 4.\n",
    "\n",
    "Let's look at a simple example to illustrate how classical Monte Carlo works using Python."
   ]
  },
  {
   "cell_type": "code",
   "execution_count": null,
   "metadata": {},
   "outputs": [],
   "source": [
    "# Let's import some libraries and functions we will need\n",
    "\n",
    "import math\n",
    "import numpy as np\n",
    "import matplotlib.pyplot as plt\n",
    "%matplotlib inline"
   ]
  },
  {
   "cell_type": "markdown",
   "metadata": {},
   "source": [
    "Let's look at a 1-month call option linked to the underlying share price of a new company called QuantumTech. We can formulate the expected payoff in 1 months time, and hence the price of the call option, as follows:\n",
    "\n",
    "$$P_{\\mathrm{call}} = \\max(S_T - K, 0)$$\n",
    "\n",
    "where $S_T$ is the price of the QuantumTech share in $T =$ 1 month and $K$ is the pre-agreed upon strike price. \n",
    "\n",
    "Since we know $K$ and $T$, we need to estimate $S_T$. I.e. we need to use Monte Carlo methods to estimate QuantumTech's share price in 1 month. But what function can sample from in order to get the Monte Carlo estimate?"
   ]
  },
  {
   "cell_type": "markdown",
   "metadata": {},
   "source": [
    "In financial literature, there are several results that help us answer this question. Share prices are often assumed to follow a random process called a Generalised Wiener Process. We can use this random process to create lots of estimates for the price of a QuantumTech share. Let's assume we expect QuantumTech to have roughly a positive return for the month of $r = 0.05$ and there will be some volatility around this return which we denote as $\\sigma = 0.4$. Then, the change in share price, $dS_T$, can be written as\n",
    "\n",
    "$$ dS_T = rS_TdT + \\sigma S_T dW_T $$\n",
    "\n",
    "where $dW_T$ is a Wiener process (see https://www.whoi.edu/fileserver.do?id=21268&pt=10&p=17232 for more technical details of this process). Using a convenient result called Itô's lemma, we can then derive the formula for the share price at time T as \n",
    "\n",
    "$$S_T = S_0e^{(r-\\frac{1}{2}\\sigma^2)T + \\sigma \\sqrt{T}W_T}$$\n",
    "\n",
    "where $S_0$ is the price of a QuantumTech share today. Thus, often shares are modelled using log-normal distributions.\n",
    "\n",
    "Now we can code up this function and use lots of random values to evaluate it, in order to calculate a price distribution for QuantumTech in 1 months time."
   ]
  },
  {
   "cell_type": "code",
   "execution_count": null,
   "metadata": {},
   "outputs": [],
   "source": [
    "# Monte Carlo valuation of a European call option \n",
    "\n",
    "# set a random seed to reproduce our results\n",
    "np.random.seed(42)\n",
    "\n",
    "# set the parameters\n",
    "S0 = 50 # initial price of the underlying asset\n",
    "K = 55 # strike price\n",
    "r = 0.05 # average return of the underlying\n",
    "sigma = 0.4 # volatility of the underlying\n",
    "T = 1 # time till execution\n",
    "t = 30 # number of time steps we want to divide T in\n",
    "dt = T / t # incremental time step size\n",
    "M = 1000 # number of paths to simulate\n",
    "\n",
    "# Simulating M price paths with t time steps\n",
    "# sum instead of cumsum would also do if only the final values at end of the month (i.e. at time T) are of interest\n",
    "S = S0 * np.exp(np.cumsum((r - 0.5 * sigma ** 2) * dt + sigma * math.sqrt(dt)* np.random.standard_normal((t + 1, M)), axis=0))\n",
    "\n",
    "# Calculating the Monte Carlo estimator for the expected payoff\n",
    "P_call = sum(np.maximum(S[-1] - K, 0)) / M\n",
    "\n",
    "# Results output\n",
    "print(\"The call option value is:  {:0.2f} ZAR.\\n\".format(P_call))"
   ]
  },
  {
   "cell_type": "markdown",
   "metadata": {},
   "source": [
    "Let's visualise the multiple paths that the underlying share price of QuantumTech could take. The resulting call option value is calculated using an average of these paths."
   ]
  },
  {
   "cell_type": "code",
   "execution_count": null,
   "metadata": {},
   "outputs": [],
   "source": [
    "num_paths_to_plot = 100\n",
    "plt.figure(figsize= (12,8))\n",
    "plt.plot(S[:, :num_paths_to_plot])\n",
    "plt.grid(True)\n",
    "plt.xlabel('days')\n",
    "plt.ylabel('Price')\n",
    "plt.title('Possible price paths for a QuantumTech share')\n",
    "plt.show()"
   ]
  },
  {
   "cell_type": "markdown",
   "metadata": {},
   "source": [
    "Let’s investigate the frequency of the simulated index levels at the end of the simulation period"
   ]
  },
  {
   "cell_type": "code",
   "execution_count": null,
   "metadata": {},
   "outputs": [],
   "source": [
    "plt.figure(figsize= (10,5))\n",
    "plt.hist(S[-1], bins=50)\n",
    "plt.grid(True)\n",
    "plt.xlabel('Price')\n",
    "plt.ylabel('frequency')"
   ]
  },
  {
   "cell_type": "markdown",
   "metadata": {},
   "source": [
    "Let’s look at the histogram of all simulated end-of-period option values"
   ]
  },
  {
   "cell_type": "code",
   "execution_count": null,
   "metadata": {},
   "outputs": [],
   "source": [
    "plt.figure(figsize= (10,5))\n",
    "plt.hist(np.maximum(S[-1] - K, 0), bins=50)\n",
    "plt.grid(True)\n",
    "plt.xlabel('option payoff value')\n",
    "plt.ylabel('frequency')"
   ]
  },
  {
   "cell_type": "markdown",
   "metadata": {},
   "source": [
    "## 3. The quantum approach\n",
    "\n",
    "Traditional Monte Carlo methods generally require extensive computational resources. By leveraging the laws of quantum mechanics, a quantum computer may provide novel ways to solve computationally intensive problems. \n",
    "\n",
    "Quantitative finance may benefit from quantum computing in many ways. Recently developed applications of gate-based quantum computing algorithms for use in finance include portfolio optimisation, the calculation of risk measures and pricing derivatives. Several of these applications are based on an algorithm called Amplitude Estimation, which can estimate a parameter's value with a convergence rate in the order of $\\mathcal{O}(M^{-1})$, where $M$ is the number of samples required. This represents a theoretical quadratic speed-up compared to Monte Carlo methods that run on classical computers with a convergence rate of $\\mathcal{O}(M^{-1/2})$. \n",
    "\n",
    "Below is a graphical demonstration of this speedup taken from a paper called Option Pricing Using Quantum Computers (https://arxiv.org/abs/1905.02666). The y-axis depicts the estimation error of the function or parameter we are trying to model, versus the number of samples we use, $M$, to create the estimate. "
   ]
  },
  {
   "cell_type": "markdown",
   "metadata": {},
   "source": [
    "<img src=\"scalingMC.png\" width=600 height=600 />"
   ]
  },
  {
   "cell_type": "markdown",
   "metadata": {},
   "source": [
    "### Pricing options with Quantum Amplitude Estimation\n",
    "\n",
    "If we were to swap out the Monte Carlo estimate for the underlying share price and use Amplitude Estimation, the building blocks needed to price the option on a gate-based quantum computer are the following:\n",
    "\n",
    "1) Represent the probability distribution $ \\mathbb{P} $ describing the evolution of the share price of QuantumTech on a quantum computer.\n",
    "$$ \\thinspace $$\n",
    "2) Construct the quantum model which computes the payoff of the option, $f(\\textbf{X})$.\n",
    "$$ \\thinspace $$\n",
    "3) Calculate the expectation value of the payoff $\\mathbb{E}_\\mathbb{P}[f(\\textbf{X})]$.\n",
    "\n",
    "In the paper Quantum Risk Analysis (https://arxiv.org/abs/1806.06893) you can find a detailed description of how to use Amplitude Estimation to calculate the expectation value of a function of <a href=\"https://www.khanacademy.org/math/statistics-probability/random-variables-stats-library/random-variables-discrete/v/random-variables\">random variables</a>, how to load a relevant probability distribution to a quantum register and the construction of the quantum circuits needed to compute the payoff and set up Amplitude Estimation to estimate the expectation value of the payoff. There is also <a href=\"https://qiskit.org/documentation/tutorials/algorithms/07_grover.html\">a chapter in the qiskit textbook</a> explaining Amplitude Estimation in more detail."
   ]
  },
  {
   "cell_type": "markdown",
   "metadata": {},
   "source": [
    "Continuing with our example of a 1-month <a href=\"http://www.theoptionsguide.com/call-option.aspx\">European call option</a> based on the share price of QuantumTech $S_T$ and a strike price $K$, recall that the corresponding payoff function is defined as:\n",
    "\n",
    "$$f(S_T)=\\max(S_T - K, 0).$$\n",
    "\n",
    "We now know that the price of this type of option depends only on the distribution of $S_T$. In the rest of this notebook, we will use a quantum algorithm that employs Amplitude Estimation to estimate the expected payoff, i.e., the fair price for the option:\n",
    "\n",
    "$$\\mathbb{E}\\left[ \\max(S_T - K, 0) \\right]$$"
   ]
  },
  {
   "cell_type": "code",
   "execution_count": null,
   "metadata": {},
   "outputs": [],
   "source": [
    "#First we import all the required libraries\n",
    "from qiskit import Aer\n",
    "from qiskit.utils import QuantumInstance\n",
    "from qiskit.algorithms import IterativeAmplitudeEstimation\n",
    "from qiskit_finance.circuit.library import LogNormalDistribution, EuropeanCallPricingObjective"
   ]
  },
  {
   "cell_type": "markdown",
   "metadata": {},
   "source": [
    "### Recapping our quantum understanding\n",
    "\n",
    "Quantum models consist of quantum circuits that contain operations which rotate qubits in different ways. Depending on the types of rotations used, these will influence the outcome of the quantum circuit when we measure each qubit. From the preliminary notebook, we know that when a qubit is measured, it collapses to a classical outcome of either 0 or 1. But, we must also remember that the outcome of quantum measurements when qubits are in superposition is stochastic, meaning, we must measure the circuit several times to get an accurate distribution over the possible outcomes. These possible outcomes are what we call basis states, and each of them have corresponding probability amplitudes which tell us how probable the basis states are of being measured. For example, if we 2 qubits, the basis states are $00, 01, 10$ and $11$ - each of which will have a probability associated with it.\n"
   ]
  },
  {
   "cell_type": "markdown",
   "metadata": {},
   "source": [
    "<img src=\"qubit.png\" width=600 height=600 />"
   ]
  },
  {
   "cell_type": "markdown",
   "metadata": {},
   "source": [
    "### Distribution Loading\n",
    "Returning to our QuantumTech example, the first component of our option pricing model is to create a quantum circuit that takes in the probability distribution implied for the possible share prices of QuantumTech in 1 months time and loads it into a register such that each basis state represents a possible share value and its amplitude, the corresponding probability of the share having that value. \n",
    "\n",
    "In this notebook, we construct a circuit factory to load a log-normal probability distribution for the share price of QuantumTech into a quantum state. The share price distribution is truncated to a given interval $[low, high]$ and discretised using $2^n$ grid points, where $n$ denotes the number of qubits used. This might sound a bit confusing, so feel free to check out this [blog post](https://medium.com/qiskit/systematic-preparation-of-arbitrary-probability-distribution-with-a-quantum-computer-165dfd8fbd7d) for more details on loading distributions as quantum states. \n",
    "\n",
    "Essentially we want to represent a probability distribution of our underlying share price as a quantum state. Thus, we reduce the the distribution to an interval we deem relevant and \"slice\" the possible values in between this interval. The number of slices we make will depend on how many qubits we have. If we have $n$ qubits, this means we have $2^n$ equally spaced slices in the interval. Each slice corresponds to a certain share price which we can then associate with a possible basis state. Thus, the more qubits we have, the more possible basis states we will have and the more slices we can create. Let's look at an example.\n",
    "\n",
    "\n",
    "### The quantum uncertainty model"
   ]
  },
  {
   "cell_type": "code",
   "execution_count": null,
   "metadata": {},
   "outputs": [],
   "source": [
    "# number of qubits to represent the uncertainty/distribution\n",
    "num_uncertainty_qubits = 2\n",
    "\n",
    "# parameters for considered random distribution\n",
    "S = 50       # initial spot price\n",
    "strike_price = 55\n",
    "vol = 0.4     # volatility of 40%\n",
    "r = 0.05      # annual interest rate of 5%\n",
    "T = 30 / 365  # 30 days to maturity\n",
    "\n",
    "# resulting parameters for log-normal distribution\n",
    "mu = ((r - 0.5 * vol**2) * T + np.log(S))\n",
    "sigma = vol * np.sqrt(T)\n",
    "mean = np.exp(mu + sigma**2/2)\n",
    "variance = (np.exp(sigma**2) - 1) * np.exp(2*mu + sigma**2)\n",
    "stddev = np.sqrt(variance)\n",
    "\n",
    "# lowest and highest value considered for the spot price; in between, an equidistant discretization is considered.\n",
    "# we truncate the distribution to the interval defined by 2 standard deviations around the mean\n",
    "low  = np.maximum(0, mean - 2*stddev) \n",
    "high = mean + 2*stddev\n",
    "\n",
    "# construct circuit factory for uncertainty model\n",
    "uncertainty_model = LogNormalDistribution(num_uncertainty_qubits, mu=mu, sigma=sigma**2, bounds=(low, high))"
   ]
  },
  {
   "cell_type": "code",
   "execution_count": null,
   "metadata": {},
   "outputs": [],
   "source": [
    "# plot probability distribution\n",
    "x = uncertainty_model.values\n",
    "y = uncertainty_model.probabilities\n",
    "plt.figure(figsize= (10,5))\n",
    "plt.bar(x, y, width=1)\n",
    "plt.xticks(x, size=15, rotation=90)\n",
    "plt.yticks(size=15)\n",
    "plt.grid()\n",
    "plt.xlabel('Share Price in one month $S_T$ (\\$)', size=15)\n",
    "plt.ylabel('Probability ($\\%$)', size=15)\n",
    "plt.show()"
   ]
  },
  {
   "cell_type": "markdown",
   "metadata": {},
   "source": [
    "### Payoff Function\n",
    "\n",
    "Let's have a look at the payoff function for our QuantumTech option. Recall that the payoff function equals zero as long as the share price in 1 months time, $S_T$, is less than the strike price $K$ and then increases linearly thereafter. The code below illustrates this."
   ]
  },
  {
   "cell_type": "code",
   "execution_count": null,
   "metadata": {},
   "outputs": [],
   "source": [
    "# plot exact payoff function (evaluated on the grid of the uncertainty model)\n",
    "x = uncertainty_model.values\n",
    "y = np.maximum(0, x - strike_price)\n",
    "plt.figure(figsize= (10,5))\n",
    "plt.plot(x, y, 'ro-')\n",
    "plt.grid()\n",
    "plt.title('Normalised Payoff Function', size=15)\n",
    "plt.xlabel('Share Price', size=15)\n",
    "plt.ylabel('Normalised Payoff', size=15)\n",
    "plt.xticks(x, size=15, rotation=90)\n",
    "plt.yticks(size=15)\n",
    "plt.show()"
   ]
  },
  {
   "cell_type": "markdown",
   "metadata": {},
   "source": [
    "### Evaluate the expected payoff\n",
    "\n",
    "Lastly, we can use Quantum Amplitude Estimation to compute the expected payoff of the option. Thanks to built-in Qiskit algorithms, we can use the EuropeanCallPricing and IterativeAmplitudeEstimation functions to achieve this."
   ]
  },
  {
   "cell_type": "code",
   "execution_count": null,
   "metadata": {},
   "outputs": [],
   "source": [
    "from qiskit_finance.applications.estimation import EuropeanCallPricing\n",
    "\n",
    "european_call_pricing = EuropeanCallPricing(num_state_qubits=num_uncertainty_qubits,\n",
    "                                            strike_price=strike_price,\n",
    "                                            rescaling_factor=0.25,\n",
    "                                            bounds=(low, high),\n",
    "                                            uncertainty_model=uncertainty_model)"
   ]
  },
  {
   "cell_type": "code",
   "execution_count": null,
   "metadata": {},
   "outputs": [],
   "source": [
    "num_uncertainty_qubits = 5\n",
    "epsilon = 0.01\n",
    "alpha = 0.7\n",
    "shots = 154\n",
    "simulator = 'qasm_simulator'\n",
    "\n",
    "qi = QuantumInstance(Aer.get_backend(simulator), shots=shots, seed_simulator=42, seed_transpiler=42)\n",
    "problem = european_call_pricing.to_estimation_problem()\n",
    "\n",
    "# construct amplitude estimation\n",
    "ae = IterativeAmplitudeEstimation(epsilon, alpha=alpha, quantum_instance=qi)\n",
    "result = ae.estimate(problem)"
   ]
  },
  {
   "cell_type": "markdown",
   "metadata": {},
   "source": [
    "Since this example is simple enough to calculate by hand, we can compute the exact expected value of the option and compare it to the result of Amplitude Estimation using a quantum approach. \n",
    "\n",
    "We can also create a confidence interval around our quantum solution. Recall that we are modelling probability distributions which are inherently random. Thus, if we want, we can instead provide a range of values for our option price instead of just one fixed value. \n",
    "\n",
    "Below is the exact value, followed by the estimated value of the option using Amplitude Estimation. The estimation error is simply the difference between the exact and estimated values. And finally, the confidence interval provides a range of values which the model predicts the final output to lie, based on the value of alpha. "
   ]
  },
  {
   "cell_type": "code",
   "execution_count": null,
   "metadata": {},
   "outputs": [],
   "source": [
    "# evaluate exact expected value (normalized to the [0, 1] interval)\n",
    "exact_value = np.dot(uncertainty_model.probabilities, y)\n",
    "\n",
    "conf_int = np.array(result.confidence_interval_processed)\n",
    "print('Exact value:        \\t%.4f' % exact_value)\n",
    "print('Estimated value:    \\t%.4f' % (european_call_pricing.interpret(result)))\n",
    "print('Estimation error:    \\t%.4f' %(np.abs(exact_value-european_call_pricing.interpret(result))))\n",
    "print('Confidence interval:\\t[%.4f, %.4f]' % tuple(conf_int))"
   ]
  },
  {
   "cell_type": "markdown",
   "metadata": {},
   "source": [
    "Ideally, we would want our model's estimated value to be as close as possible to the exact value. Thus, we would want to minimise the estimation error as much as possible. \n",
    "\n",
    "Now that we have implemented the quantum approach to price a call option, we can start to attempt the exercises below to enhance and create more models."
   ]
  },
  {
   "cell_type": "markdown",
   "metadata": {},
   "source": [
    "# Exercises"
   ]
  },
  {
   "cell_type": "markdown",
   "metadata": {},
   "source": [
    "### Exercise 2a\n",
    "\n",
    "The estimated value for the expected payoff can be made more accurate. Can you make the estimated value closer to the exact value by tweaking various parameters? Try reducing the estimation error as much as possible and input your final values below. \n",
    "\n",
    "NOTE: Do not change any other variables than the ones specified below."
   ]
  },
  {
   "cell_type": "code",
   "execution_count": null,
   "metadata": {},
   "outputs": [],
   "source": [
    "# Run this cell to get a score for your answer, copy the values for the variables here\n",
    "\n",
    "# HINT: Try lower the estimation error to below 0.03\n",
    "\n",
    "num_uncertainty_qubits = 1\n",
    "epsilon = 0.01\n",
    "alpha = 0.7\n",
    "shots = 154\n",
    "simulator = 'qasm_simulator'\n",
    "\n",
    "# Run this cell once you are ready to submit your answer\n",
    "\n",
    "from qc_grader import grade_ex2a\n",
    "\n",
    "solutions = [num_uncertainty_qubits, low, high, epsilon, alpha, shots, simulator]\n",
    "\n",
    "grade_ex2a(solutions)"
   ]
  },
  {
   "cell_type": "markdown",
   "metadata": {},
   "source": [
    "In this exercise, your score is calculated based on the estimation error of your model. The lower the estimation error, the higher your score. The highest possible score is 100."
   ]
  },
  {
   "cell_type": "markdown",
   "metadata": {},
   "source": [
    "### Exercise 2b\n",
    "\n",
    "Recall that we can have different types of options. What we have implemented so far in this notebook is a European call option. In this exercise, try to implement a **<a href=\"https://www.theoptionsguide.com/put-option.aspx\">European put option</a>**. A put option gives the buyer of the option the right (but not the obligation) to sell the underlying asset, rather than to buy it. Thus, a put option has a completely different payoff function to a call option. \n",
    "\n",
    "Let's assume the following **fixed** parameters to implement a put option:\n",
    "\n",
    "```\n",
    "num_uncertainty_qubits = 4\n",
    "S = 200 # initial spot price\n",
    "vol = 0.3 # volatility of 30%\n",
    "r = 0.08 # annual interest rate of 8%\n",
    "T = 60 / 365 # 60 days to maturity\n",
    "strike_price = 230\n",
    "epsilon = 0.01\n",
    "alpha = 0.05\n",
    "shots = 100\n",
    "simulator = 'qasm_simulator'\n",
    "````"
   ]
  },
  {
   "cell_type": "markdown",
   "metadata": {},
   "source": [
    "Below is some code to get you started. \n",
    "\n",
    "HINT: if you are stuck, check out this qiskit tutorial and adapt it for our problem: https://qiskit.org/documentation/finance/tutorials/04_european_put_option_pricing.html."
   ]
  },
  {
   "cell_type": "code",
   "execution_count": null,
   "metadata": {},
   "outputs": [],
   "source": [
    "# Do not change these variables\n",
    "\n",
    "num_uncertainty_qubits = 4\n",
    "S = 200 # initial spot price\n",
    "vol = 0.3 # volatility of 30%\n",
    "r = 0.08 # annual interest rate of 4%\n",
    "T = 60 / 365 # 60 days to maturity\n",
    "strike_price = 230\n",
    "epsilon = 0.01\n",
    "alpha = 0.05\n",
    "shots = 100\n",
    "simulator = 'qasm_simulator'\n",
    "\n",
    "# set the approximation scaling for the payoff function\n",
    "rescaling_factor = 0.25\n",
    "\n",
    "# resulting parameters for log-normal distribution\n",
    "mu = ((r - 0.5 * vol**2) * T + np.log(S))\n",
    "sigma = vol * np.sqrt(T)\n",
    "mean = np.exp(mu + sigma**2/2)\n",
    "variance = (np.exp(sigma**2) - 1) * np.exp(2*mu + sigma**2)\n",
    "stddev = np.sqrt(variance)\n",
    "low  = np.maximum(0, mean - 2*stddev) \n",
    "high = mean + 2*stddev\n",
    "breakpoints = [low, high]\n",
    "slopes = [-1, 0]\n",
    "offsets = [strike_price - low, 0]\n",
    "f_min = 0\n",
    "f_max = strike_price - low"
   ]
  },
  {
   "cell_type": "code",
   "execution_count": null,
   "metadata": {},
   "outputs": [],
   "source": [
    "# The distribution loading step will be the same for the underlying asset, in this case the QuantumTech share \n",
    "\n",
    "uncertainty_model = LogNormalDistribution(num_uncertainty_qubits, mu=mu, sigma=sigma**2, bounds=(low, high))"
   ]
  },
  {
   "cell_type": "code",
   "execution_count": null,
   "metadata": {},
   "outputs": [],
   "source": [
    "from qiskit.circuit.library import  LinearAmplitudeFunction\n",
    "\n",
    "# setup piecewise linear objective function, the LinearAmplitudeFunction\n",
    "\n",
    "\n",
    "european_put_objective = LinearAmplitudeFunction(num_uncertainty_qubits,\n",
    "                                                slopes,\n",
    "                                                offsets,\n",
    "                                                domain=(low, high),\n",
    "                                                image=(f_min, f_max),\n",
    "                                                breakpoints=breakpoints,\n",
    "                                                rescaling_factor=rescaling_factor)"
   ]
  },
  {
   "cell_type": "code",
   "execution_count": null,
   "metadata": {},
   "outputs": [],
   "source": [
    "# setup the quantum instance to pass to the IterativeAmplitudeEstimation function\n",
    "\n",
    "qi = QuantumInstance(Aer.get_backend(simulator), shots=shots, seed_simulator=42, seed_transpiler=42)\n",
    "\n",
    "# construct amplitude estimation\n",
    "\n",
    "ae = IterativeAmplitudeEstimation(epsilon, alpha=alpha, quantum_instance=qi)"
   ]
  },
  {
   "cell_type": "code",
   "execution_count": null,
   "metadata": {},
   "outputs": [],
   "source": [
    "# Run this cell to get a score for your answer!\n",
    "\n",
    "from qc_grader import grade_ex2b\n",
    "\n",
    "grade_ex2b(uncertainty_model, european_put_objective, ae)"
   ]
  },
  {
   "cell_type": "markdown",
   "metadata": {},
   "source": [
    "## Advanced reading (optional)\n",
    "\n",
    "### Computing the delta of an option"
   ]
  },
  {
   "cell_type": "markdown",
   "metadata": {},
   "source": [
    "The delta of an option measures the risk or the sensitivity of an option's change in price if the underlying asset's price changes. It is option quoted as a simple ration of the change in price of the underlying asset to the change in price of the option:\n",
    "\n",
    "$\\mathrm{delta} = \\frac{\\Delta S}{\\Delta P}$, where $S$ is the underlying asset's price and $P$ is the price of the option. You can read more about the details of deltas for options here: https://www.investopedia.com/terms/d/delta.asp\n",
    "\n",
    "In Qiskit, we can also conveniently compute the delta of an option. Continuing on with the parameters of our put option we just implemented, let's compute the delta."
   ]
  },
  {
   "cell_type": "code",
   "execution_count": null,
   "metadata": {},
   "outputs": [],
   "source": [
    "from qiskit.algorithms import EstimationProblem"
   ]
  },
  {
   "cell_type": "code",
   "execution_count": null,
   "metadata": {},
   "outputs": [],
   "source": [
    "# setup a piecewise linear objective function\n",
    "european_put_delta_objective = LinearAmplitudeFunction(\n",
    "    num_uncertainty_qubits,\n",
    "    slopes,\n",
    "    offsets,\n",
    "    domain=(low, high),\n",
    "    image=(f_min, f_max),\n",
    "    breakpoints=breakpoints\n",
    ")\n",
    "\n",
    "# construct circuits for payoff function\n",
    "european_put_delta = european_put_delta_objective.compose(uncertainty_model, front=True)"
   ]
  },
  {
   "cell_type": "code",
   "execution_count": null,
   "metadata": {},
   "outputs": [],
   "source": [
    "# Set up the estimation problem using qiskit \n",
    "problem = EstimationProblem(state_preparation=european_put_delta,\n",
    "                            objective_qubits=[num_uncertainty_qubits])\n",
    "\n",
    "# construct amplitude estimation\n",
    "ae_delta = IterativeAmplitudeEstimation(epsilon, alpha=alpha, quantum_instance=qi)\n",
    "\n",
    "# get the estimated result\n",
    "result_delta = ae_delta.estimate(problem)\n",
    "\n",
    "# compute the exact result\n",
    "x = uncertainty_model.values\n",
    "exact_delta = -sum(uncertainty_model.probabilities[x <= strike_price])\n",
    "\n",
    "\n",
    "# compare results\n",
    "conf_int = -np.array(result_delta.confidence_interval)[::-1]\n",
    "print('Exact delta:    \\t%.4f' % exact_delta)\n",
    "print('Esimated value: \\t%.4f' % -result_delta.estimation)\n",
    "print('Estimation error:    \\t%.4f' %(np.abs(exact_delta+result_delta.estimation)))\n",
    "print('Confidence interval: \\t[%.4f, %.4f]' % tuple(conf_int))"
   ]
  },
  {
   "cell_type": "markdown",
   "metadata": {},
   "source": [
    "# Conclusion\n",
    "\n",
    "Now that you are familiar with how quantum algorithms can be used for financial applications, go ahead and start exploring the <a href=\"https://qiskit.org/documentation/apidoc/qiskit_finance.html\">Qiskit Finance module</a> and check out all the other types of <a href=\"https://qiskit.org/documentation/finance/ \">quantum finance applications</a> that are out there! You can even begin to modify the code and tailor them for problems in real life. \n",
    "\n",
    "### Good luck! "
   ]
  },
  {
   "cell_type": "code",
   "execution_count": null,
   "metadata": {},
   "outputs": [],
   "source": [
    "import qiskit.tools.jupyter\n",
    "%qiskit_version_table\n",
    "%qiskit_copyright"
   ]
  }
 ],
 "metadata": {
  "kernelspec": {
   "display_name": "Qiskit v0.29.0",
   "language": "python",
   "name": "python3"
  },
  "language_info": {
   "codemirror_mode": {
    "name": "ipython",
    "version": 3
   },
   "file_extension": ".py",
   "mimetype": "text/x-python",
   "name": "python",
   "nbconvert_exporter": "python",
   "pygments_lexer": "ipython3",
   "version": "3.8.10"
  },
  "widgets": {
   "application/vnd.jupyter.widget-state+json": {
    "state": {},
    "version_major": 2,
    "version_minor": 0
   }
  }
 },
 "nbformat": 4,
 "nbformat_minor": 4
}
